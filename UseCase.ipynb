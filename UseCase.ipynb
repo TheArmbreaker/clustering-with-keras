{
  "cells": [
    {
      "cell_type": "raw",
      "metadata": {},
      "source": [
        "---\n",
        "title: \"Plan\"\n",
        "format: html\n",
        "editor: source\n",
        "---"
      ],
      "id": "fd95c6d1"
    },
    {
      "cell_type": "markdown",
      "metadata": {},
      "source": [
        "## Introduction\n",
        "\n",
        "The requirement of self-labeled image data became obvious, when I was researching a project for my masterthesis. I was looking for a way to automatically sort images by their content and found a project from Gabo Flomo on [(towardsdatascience.com: 2020)](https://towardsdatascience.com/how-to-cluster-images-based-on-visual-similarity-cd6e7209fe34), in which flower-images are clustered by similarity.\n",
        "\n",
        "In this R learning project the python code from Gabo Flomo is used as blueprint. It is translated to R and incorporated to the Data Science Life Cycle.\n",
        "\n",
        "## Use Case\n",
        "\n",
        "The thesis subject is going to be about object detection on military personal. For such topics almost no dataset is publicly available. Therefore, datasets without labels or not necessarily relevant images will be used for clustering.\n",
        "\n",
        "To provide comparable code the original flower images and images of weapons are used. First the images are provided to a pre-trained keras model with an omitted output layer. This provides a feature matrix with information on image features. On the matrices of all images a principal component analysis is performed and the results are forwarded to kmeans-clustering. The obtained results are mapped to the image files. This enables a shiny web app to load respective images of a cluster. The shiny web app is used as deployment stage in the Data Science Life Cycle.\n",
        "\n",
        "Additionally, it shall be mentioned that the coding is based on base functions as well as the tidyverse-package. This enables the utilisation of features which were not found in the respective other package. For example an elbow-curve was plotted with baseR.\n",
        "\n",
        "\n",
        "```{html}\n",
        "<div style=\"display: inline-block; margin-right: 10px;\">\n",
        "  ![flower-example1](flowers/0001.png)\n",
        "</div>\n",
        "<div style=\"display: inline-block;\">\n",
        "  ![flower-example2](flowers/0009.png)\n",
        "</div>\n",
        "```\n",
        "\n",
        "\n",
        "\n",
        "![flower-example1](flowers/0001.png)\n",
        "![flower-example2](flowers/0009.png)\n",
        "![weapons-example1](weapons/beef33684f8a177e.jpg)\n",
        "![weapons-example2](weapons/e9552b04f79630ee.jpg)\n",
        "\n",
        "## Anticipated Outcomes\n",
        "\n",
        "Regarding the anticipated outcomes it is highlighted that the code shall support exploratory activities.\n",
        "\n",
        "For flower images 10 different clusters can be expected. This reflects the plant species labels provided in the dataset description.\n",
        "\n",
        "For weapon images an unknown amount of clusters can be expected. The optimal k will be calculated in the Data section. However, the objective is to sort the image files by some degree to simplify any manual label activities. For example it is imagined that images of rifles and pistols are in separate clusters. In this context it is important to consider that other image features will influence the cluster as well. Such superior influences can be people holding a weapon, different camera angles in the image and so on.\n",
        "\n",
        "## Datasets\n",
        "\n",
        "The images can be found here:\n",
        "\n",
        "-   Weapons in Images on [kaggle.com](https://www.kaggle.com/datasets/jubaerad/weapons-in-images-segmented-videos)\n",
        "-   Flower Color Images on [kaggle.com](https://www.kaggle.com/datasets/olgabelitskaya/flower-color-images)\n",
        "\n",
        "To execute the code and the shiny web app the data shall be copied in folders \"flowers\" and \"weapons\" in the Rproject folder.  \n",
        "For flowers use the images in the subfolder \"flower_images\" and for weapons the subfolder \"Weapons-in-Images\" in the download files.\n"
      ],
      "id": "97d403f6"
    }
  ],
  "metadata": {
    "kernelspec": {
      "name": "python3",
      "language": "python",
      "display_name": "Python 3 (ipykernel)"
    }
  },
  "nbformat": 4,
  "nbformat_minor": 5
}